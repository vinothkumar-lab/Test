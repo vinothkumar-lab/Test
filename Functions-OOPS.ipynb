{
 "cells": [
  {
   "cell_type": "code",
   "execution_count": 28,
   "id": "7a9ed6dd",
   "metadata": {},
   "outputs": [
    {
     "name": "stdout",
     "output_type": "stream",
     "text": [
      "Enter the input with age and verify it and adutlt condition\n",
      "Enter the age:45\n",
      "senior citizen\n"
     ]
    }
   ],
   "source": [
    "print(\"Enter the input with age and verify it and adutlt condition\")\n",
    "age=int(input(\"Enter the age:\"))\n",
    "if(age<18):\n",
    "    print(\"Yes its Children\") \n",
    "elif(age<30):\n",
    "    print(\"Adult\")\n",
    "elif(age<40):\n",
    "    print(\"citizen\")\n",
    "else:\n",
    "    print(\"senior citizen\")\n",
    "    "
   ]
  },
  {
   "cell_type": "code",
   "execution_count": null,
   "id": "fae5696b",
   "metadata": {},
   "outputs": [],
   "source": []
  },
  {
   "cell_type": "code",
   "execution_count": 18,
   "id": "15ab6816",
   "metadata": {},
   "outputs": [
    {
     "name": "stdout",
     "output_type": "stream",
     "text": [
      "ENTER THE NUMBER AND MATCH THE VALUE\n",
      "enter the number:23\n",
      "Its below 50\n"
     ]
    }
   ],
   "source": [
    "print(\"ENTER THE NUMBER AND MATCH THE VALUE\")\n",
    "num=int(input(\"enter the number:\"))\n",
    "if(num<50):\n",
    "    print(\"Its below 50\")\n",
    "else:\n",
    "    print(\"its above 50\")"
   ]
  },
  {
   "cell_type": "code",
   "execution_count": 29,
   "id": "8446c0b9",
   "metadata": {},
   "outputs": [],
   "source": [
    "lists=[3,45,18,25,87,47]"
   ]
  },
  {
   "cell_type": "code",
   "execution_count": 30,
   "id": "2e62d494",
   "metadata": {},
   "outputs": [
    {
     "name": "stdout",
     "output_type": "stream",
     "text": [
      "3\n",
      "45\n",
      "18\n",
      "25\n",
      "87\n",
      "47\n"
     ]
    }
   ],
   "source": [
    "for temp in lists:\n",
    "    print(temp)"
   ]
  },
  {
   "cell_type": "code",
   "execution_count": 34,
   "id": "d0b0ec7a",
   "metadata": {},
   "outputs": [
    {
     "name": "stdout",
     "output_type": "stream",
     "text": [
      "Yes its Children\n",
      "senior citizen\n",
      "Adult\n",
      "Adult\n",
      "senior citizen\n",
      "senior citizen\n"
     ]
    }
   ],
   "source": [
    "for age in lists:\n",
    "    if(age<18):\n",
    "        print(\"Yes its Children\") \n",
    "    elif(age<30):\n",
    "        print(\"Adult\")\n",
    "    elif(age<40):\n",
    "        print(\"citizen\")\n",
    "    else:\n",
    "        print(\"senior citizen\")\n",
    "    \n",
    "    "
   ]
  },
  {
   "cell_type": "code",
   "execution_count": 37,
   "id": "1efa93d2",
   "metadata": {},
   "outputs": [
    {
     "name": "stdout",
     "output_type": "stream",
     "text": [
      "Enter the numer:5\n",
      "its odd number\n"
     ]
    }
   ],
   "source": [
    "num=int(input(\"Enter the numer:\"))\n",
    "if((num%2==0)):\n",
    "    print(\"Its Even number:\")\n",
    "elif((num%2==1)):\n",
    "    print(\"its odd number\")"
   ]
  },
  {
   "cell_type": "code",
   "execution_count": 38,
   "id": "5976d874",
   "metadata": {},
   "outputs": [
    {
     "name": "stdout",
     "output_type": "stream",
     "text": [
      "0\n",
      "1\n",
      "2\n",
      "3\n",
      "4\n",
      "5\n",
      "6\n",
      "7\n",
      "8\n",
      "9\n"
     ]
    }
   ],
   "source": [
    "for num in range(0,10):\n",
    "    print(num)"
   ]
  },
  {
   "cell_type": "code",
   "execution_count": 1,
   "id": "7b2f0fbf",
   "metadata": {},
   "outputs": [],
   "source": [
    "lists=[3,45,18,25,87,47]\n",
    "def agecategaroy():\n",
    "    for age in lists:\n",
    "        if(age<18):\n",
    "            print(\"Yes its Children\") \n",
    "        elif(age<30):\n",
    "            print(\"Adult\")\n",
    "        elif(age<40):\n",
    "            print(\"citizen\")\n",
    "        else:\n",
    "            print(\"senior citizen\")\n",
    "    "
   ]
  },
  {
   "cell_type": "code",
   "execution_count": 2,
   "id": "0011c8a9",
   "metadata": {},
   "outputs": [
    {
     "name": "stdout",
     "output_type": "stream",
     "text": [
      "Yes its Children\n",
      "senior citizen\n",
      "Adult\n",
      "Adult\n",
      "senior citizen\n",
      "senior citizen\n"
     ]
    }
   ],
   "source": [
    "agecategaroy()"
   ]
  },
  {
   "cell_type": "code",
   "execution_count": 8,
   "id": "ab50fb52",
   "metadata": {},
   "outputs": [
    {
     "name": "stdout",
     "output_type": "stream",
     "text": [
      "Enter the age:56\n"
     ]
    }
   ],
   "source": [
    "age=int(input(\"Enter the age:\"))\n",
    "def agecategaroy():\n",
    "    if(age<18):\n",
    "        print(\"children\")\n",
    "        cate = \"children\"\n",
    "    elif(age<35):\n",
    "        print(\"adult\")\n",
    "        cate = \"citizen\"\n",
    "    elif(age<50):\n",
    "        print(\"citizen\")\n",
    "        cate = \"citizen\"\n",
    "    else:\n",
    "        print(\"senior citizen\")\n",
    "        cate = \"senior citizen\"\n",
    "    return cate    \n",
    "        "
   ]
  },
  {
   "cell_type": "code",
   "execution_count": 9,
   "id": "02dd412d",
   "metadata": {},
   "outputs": [
    {
     "name": "stdout",
     "output_type": "stream",
     "text": [
      "senior citizen\n"
     ]
    }
   ],
   "source": [
    "agecate=agecategaroy()"
   ]
  },
  {
   "cell_type": "code",
   "execution_count": 10,
   "id": "db458c4b",
   "metadata": {},
   "outputs": [
    {
     "name": "stdout",
     "output_type": "stream",
     "text": [
      "senior citizen\n"
     ]
    }
   ],
   "source": [
    "print(agecate)"
   ]
  },
  {
   "cell_type": "code",
   "execution_count": 46,
   "id": "d880907a",
   "metadata": {},
   "outputs": [],
   "source": [
    "def oddeven():\n",
    "    num=int(input(\"Enter the numer:\"))\n",
    "    if((num%2==0)):\n",
    "        print(\"Its Even number\")\n",
    "        message=\"even number\"\n",
    "    elif((num%2==1)):\n",
    "        print(\"its odd number\")\n",
    "        message=\"odd number\"\n",
    "    return message"
   ]
  },
  {
   "cell_type": "code",
   "execution_count": 36,
   "id": "4f14950b",
   "metadata": {},
   "outputs": [
    {
     "name": "stdout",
     "output_type": "stream",
     "text": [
      "Enter the numer:66\n",
      "Its Even number\n"
     ]
    },
    {
     "data": {
      "text/plain": [
       "'even number'"
      ]
     },
     "execution_count": 36,
     "metadata": {},
     "output_type": "execute_result"
    }
   ],
   "source": [
    "#oddeven()"
   ]
  },
  {
   "cell_type": "code",
   "execution_count": 47,
   "id": "c0025d8f",
   "metadata": {},
   "outputs": [
    {
     "name": "stdout",
     "output_type": "stream",
     "text": [
      "Enter the numer:22\n",
      "Its Even number\n"
     ]
    }
   ],
   "source": [
    "message=oddeven()"
   ]
  },
  {
   "cell_type": "code",
   "execution_count": 51,
   "id": "2f144494",
   "metadata": {},
   "outputs": [
    {
     "name": "stdout",
     "output_type": "stream",
     "text": [
      "yes the given number is ODD\n"
     ]
    }
   ],
   "source": [
    "if(message==\"Even Number\"):\n",
    "    print(\"yes the given number is EVEN\")\n",
    "else:\n",
    "    print(\"yes the given number is ODD\")"
   ]
  },
  {
   "cell_type": "code",
   "execution_count": 50,
   "id": "c19899b0",
   "metadata": {},
   "outputs": [
    {
     "name": "stdout",
     "output_type": "stream",
     "text": [
      "even number\n"
     ]
    }
   ],
   "source": [
    "print(message)"
   ]
  },
  {
   "cell_type": "code",
   "execution_count": null,
   "id": "8145f931",
   "metadata": {},
   "outputs": [],
   "source": []
  },
  {
   "cell_type": "code",
   "execution_count": null,
   "id": "0cfaca5d",
   "metadata": {},
   "outputs": [],
   "source": []
  }
 ],
 "metadata": {
  "kernelspec": {
   "display_name": "Python 3 (ipykernel)",
   "language": "python",
   "name": "python3"
  },
  "language_info": {
   "codemirror_mode": {
    "name": "ipython",
    "version": 3
   },
   "file_extension": ".py",
   "mimetype": "text/x-python",
   "name": "python",
   "nbconvert_exporter": "python",
   "pygments_lexer": "ipython3",
   "version": "3.11.5"
  }
 },
 "nbformat": 4,
 "nbformat_minor": 5
}
