{
 "cells": [
  {
   "cell_type": "code",
   "execution_count": 28,
   "id": "7a9ed6dd",
   "metadata": {},
   "outputs": [
    {
     "name": "stdout",
     "output_type": "stream",
     "text": [
      "Enter the input with age and verify it and adutlt condition\n",
      "Enter the age:45\n",
      "senior citizen\n"
     ]
    }
   ],
   "source": [
    "print(\"Enter the input with age and verify it and adutlt condition\")\n",
    "age=int(input(\"Enter the age:\"))\n",
    "if(age<18):\n",
    "    print(\"Yes its Children\") \n",
    "elif(age<30):\n",
    "    print(\"Adult\")\n",
    "elif(age<40):\n",
    "    print(\"citizen\")\n",
    "else:\n",
    "    print(\"senior citizen\")\n",
    "    "
   ]
  },
  {
   "cell_type": "code",
   "execution_count": null,
   "id": "fae5696b",
   "metadata": {},
   "outputs": [],
   "source": []
  },
  {
   "cell_type": "code",
   "execution_count": 18,
   "id": "15ab6816",
   "metadata": {},
   "outputs": [
    {
     "name": "stdout",
     "output_type": "stream",
     "text": [
      "ENTER THE NUMBER AND MATCH THE VALUE\n",
      "enter the number:23\n",
      "Its below 50\n"
     ]
    }
   ],
   "source": [
    "print(\"ENTER THE NUMBER AND MATCH THE VALUE\")\n",
    "num=int(input(\"enter the number:\"))\n",
    "if(num<50):\n",
    "    print(\"Its below 50\")\n",
    "else:\n",
    "    print(\"its above 50\")"
   ]
  },
  {
   "cell_type": "code",
   "execution_count": 29,
   "id": "8446c0b9",
   "metadata": {},
   "outputs": [],
   "source": [
    "lists=[3,45,18,25,87,47]"
   ]
  },
  {
   "cell_type": "code",
   "execution_count": 30,
   "id": "2e62d494",
   "metadata": {},
   "outputs": [
    {
     "name": "stdout",
     "output_type": "stream",
     "text": [
      "3\n",
      "45\n",
      "18\n",
      "25\n",
      "87\n",
      "47\n"
     ]
    }
   ],
   "source": [
    "for temp in lists:\n",
    "    print(temp)"
   ]
  },
  {
   "cell_type": "code",
   "execution_count": 34,
   "id": "d0b0ec7a",
   "metadata": {},
   "outputs": [
    {
     "name": "stdout",
     "output_type": "stream",
     "text": [
      "Yes its Children\n",
      "senior citizen\n",
      "Adult\n",
      "Adult\n",
      "senior citizen\n",
      "senior citizen\n"
     ]
    }
   ],
   "source": [
    "for age in lists:\n",
    "    if(age<18):\n",
    "        print(\"Yes its Children\") \n",
    "    elif(age<30):\n",
    "        print(\"Adult\")\n",
    "    elif(age<40):\n",
    "        print(\"citizen\")\n",
    "    else:\n",
    "        print(\"senior citizen\")\n",
    "    \n",
    "    "
   ]
  },
  {
   "cell_type": "code",
   "execution_count": 37,
   "id": "1efa93d2",
   "metadata": {},
   "outputs": [
    {
     "name": "stdout",
     "output_type": "stream",
     "text": [
      "Enter the numer:5\n",
      "its odd number\n"
     ]
    }
   ],
   "source": [
    "num=int(input(\"Enter the numer:\"))\n",
    "if((num%2==0)):\n",
    "    print(\"Its Even number:\")\n",
    "elif((num%2==1)):\n",
    "    print(\"its odd number\")"
   ]
  },
  {
   "cell_type": "code",
   "execution_count": 38,
   "id": "5976d874",
   "metadata": {},
   "outputs": [
    {
     "name": "stdout",
     "output_type": "stream",
     "text": [
      "0\n",
      "1\n",
      "2\n",
      "3\n",
      "4\n",
      "5\n",
      "6\n",
      "7\n",
      "8\n",
      "9\n"
     ]
    }
   ],
   "source": [
    "for num in range(0,10):\n",
    "    print(num)"
   ]
  },
  {
   "cell_type": "code",
   "execution_count": null,
   "id": "7b2f0fbf",
   "metadata": {},
   "outputs": [],
   "source": []
  }
 ],
 "metadata": {
  "kernelspec": {
   "display_name": "Python 3 (ipykernel)",
   "language": "python",
   "name": "python3"
  },
  "language_info": {
   "codemirror_mode": {
    "name": "ipython",
    "version": 3
   },
   "file_extension": ".py",
   "mimetype": "text/x-python",
   "name": "python",
   "nbconvert_exporter": "python",
   "pygments_lexer": "ipython3",
   "version": "3.11.5"
  }
 },
 "nbformat": 4,
 "nbformat_minor": 5
}
