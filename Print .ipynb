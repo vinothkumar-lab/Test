{
 "cells": [
  {
   "cell_type": "code",
   "execution_count": 1,
   "id": "24fd8f1f",
   "metadata": {},
   "outputs": [
    {
     "name": "stdout",
     "output_type": "stream",
     "text": [
      "\n"
     ]
    }
   ],
   "source": [
    "print ()"
   ]
  },
  {
   "cell_type": "code",
   "execution_count": 2,
   "id": "bfeaf771",
   "metadata": {},
   "outputs": [
    {
     "name": "stdout",
     "output_type": "stream",
     "text": [
      "welcome to my learning path\n"
     ]
    }
   ],
   "source": [
    "print (\"welcome to my learning path\")"
   ]
  },
  {
   "cell_type": "code",
   "execution_count": 3,
   "id": "9afc0bec",
   "metadata": {},
   "outputs": [
    {
     "name": "stdout",
     "output_type": "stream",
     "text": [
      "Hello, world\n"
     ]
    }
   ],
   "source": [
    "print (\"Hello, world\")"
   ]
  },
  {
   "cell_type": "code",
   "execution_count": 5,
   "id": "d839190b",
   "metadata": {},
   "outputs": [
    {
     "name": "stdout",
     "output_type": "stream",
     "text": [
      "Name: vinoth kumar\n"
     ]
    }
   ],
   "source": [
    "print(\"Name:\",\"vinoth kumar\")"
   ]
  },
  {
   "cell_type": "code",
   "execution_count": 6,
   "id": "a1057b55",
   "metadata": {},
   "outputs": [
    {
     "name": "stdout",
     "output_type": "stream",
     "text": [
      "Name: vinoth kumar age: 39\n"
     ]
    }
   ],
   "source": [
    "print(\"Name:\",\"vinoth kumar\", \"age:\", \"39\")"
   ]
  },
  {
   "cell_type": "code",
   "execution_count": 7,
   "id": "e1fa1758",
   "metadata": {},
   "outputs": [
    {
     "name": "stdout",
     "output_type": "stream",
     "text": [
      "Name: vinoth kumar age: 39 city: Bengalore\n"
     ]
    }
   ],
   "source": [
    "print(\"Name:\",\"vinoth kumar\", \"age:\", \"39\",\"city:\",\"Bengalore\")"
   ]
  },
  {
   "cell_type": "code",
   "execution_count": null,
   "id": "cc439e09",
   "metadata": {},
   "outputs": [],
   "source": []
  }
 ],
 "metadata": {
  "kernelspec": {
   "display_name": "Python 3 (ipykernel)",
   "language": "python",
   "name": "python3"
  },
  "language_info": {
   "codemirror_mode": {
    "name": "ipython",
    "version": 3
   },
   "file_extension": ".py",
   "mimetype": "text/x-python",
   "name": "python",
   "nbconvert_exporter": "python",
   "pygments_lexer": "ipython3",
   "version": "3.11.5"
  }
 },
 "nbformat": 4,
 "nbformat_minor": 5
}
