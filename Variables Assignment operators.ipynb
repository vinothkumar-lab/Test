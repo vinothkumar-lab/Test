{
 "cells": [
  {
   "cell_type": "code",
   "execution_count": 1,
   "id": "eb3b08dc",
   "metadata": {},
   "outputs": [],
   "source": [
    "num1=50\n",
    "num2=101\n",
    "add=num1+num2"
   ]
  },
  {
   "cell_type": "code",
   "execution_count": 2,
   "id": "9b02fed6",
   "metadata": {},
   "outputs": [
    {
     "name": "stdout",
     "output_type": "stream",
     "text": [
      "add\n",
      "151\n"
     ]
    }
   ],
   "source": [
    "num1=50\n",
    "num2=101\n",
    "add=num1+num2\n",
    "print (\"add\")\n",
    "print (add)"
   ]
  },
  {
   "cell_type": "code",
   "execution_count": 3,
   "id": "afe899db",
   "metadata": {},
   "outputs": [
    {
     "name": "stdout",
     "output_type": "stream",
     "text": [
      "sub\n",
      "43\n"
     ]
    }
   ],
   "source": [
    "a=98\n",
    "b=55\n",
    "sub=a-b\n",
    "print(\"sub\")\n",
    "print(sub)"
   ]
  },
  {
   "cell_type": "code",
   "execution_count": 4,
   "id": "260e44f6",
   "metadata": {},
   "outputs": [
    {
     "name": "stdout",
     "output_type": "stream",
     "text": [
      "add\n",
      "sub\n",
      "0\n",
      "20\n"
     ]
    }
   ],
   "source": [
    "a=10\n",
    "b=20\n",
    "c=30\n",
    "add=a+b-c\n",
    "sub=c-a\n",
    "print(\"add\")\n",
    "print(\"sub\")\n",
    "print(add)\n",
    "print(sub)"
   ]
  },
  {
   "cell_type": "code",
   "execution_count": 5,
   "id": "0b8e452a",
   "metadata": {},
   "outputs": [
    {
     "name": "stdout",
     "output_type": "stream",
     "text": [
      "add\n",
      "sub\n",
      "0\n",
      "20\n"
     ]
    }
   ],
   "source": [
    "a=10\n",
    "b=20\n",
    "c=30\n",
    "add=a+b-c\n",
    "sub=c-a\n",
    "print(\"add\")\n",
    "print(\"sub\")\n",
    "print(add)\n",
    "print(sub)\n"
   ]
  },
  {
   "cell_type": "code",
   "execution_count": 16,
   "id": "6e5b0e16",
   "metadata": {},
   "outputs": [
    {
     "name": "stdout",
     "output_type": "stream",
     "text": [
      "The addition of two number\n",
      "The number: 10\n",
      "The number: 20\n",
      "The number: 30\n",
      "add\n",
      "60\n",
      "The answer is 60\n"
     ]
    }
   ],
   "source": [
    "print(\"The addition of two number\")\n",
    "num1=10\n",
    "num2=20\n",
    "num3=30\n",
    "print(\"The number:\",\"10\")\n",
    "print(\"The number:\",\"20\")\n",
    "print(\"The number:\",\"30\")\n",
    "add=(num1+num2+num3)\n",
    "print(\"add\")\n",
    "print(add)\n",
    "print(\"The answer is\",add)"
   ]
  },
  {
   "cell_type": "code",
   "execution_count": 20,
   "id": "2fcbd313",
   "metadata": {},
   "outputs": [
    {
     "name": "stdout",
     "output_type": "stream",
     "text": [
      "Enther the input value and display the addition value\n",
      "Enter the num1 value:20\n",
      "Enter the num2 value:30\n",
      "Enter the added value 50\n"
     ]
    }
   ],
   "source": [
    "print(\"Enther the input value and display the addition value\")\n",
    "num1=int(input(\"Enter the num1 value:\"))\n",
    "num2=int(input(\"Enter the num2 value:\"))\n",
    "print(\"Enter the added value\", num1+num2)"
   ]
  },
  {
   "cell_type": "code",
   "execution_count": 21,
   "id": "a337d241",
   "metadata": {},
   "outputs": [
    {
     "name": "stdout",
     "output_type": "stream",
     "text": [
      "Enter the value and do addition\n"
     ]
    }
   ],
   "source": [
    "print(\"Enter the value and do addition\")"
   ]
  },
  {
   "cell_type": "code",
   "execution_count": 23,
   "id": "df184615",
   "metadata": {},
   "outputs": [
    {
     "name": "stdout",
     "output_type": "stream",
     "text": [
      "Enter the value and do addition\n",
      "enter the num1 value:100\n",
      "enter the num2 value200\n",
      "the added value is: 300\n"
     ]
    }
   ],
   "source": [
    "print(\"Enter the value and do addition\")\n",
    "num1=int(input(\"enter the num1 value:\"))\n",
    "num2=int(input(\"enter the num2 value\"))\n",
    "print(\"the added value is:\",num1+num2)"
   ]
  },
  {
   "cell_type": "code",
   "execution_count": null,
   "id": "6429d363",
   "metadata": {},
   "outputs": [],
   "source": []
  }
 ],
 "metadata": {
  "kernelspec": {
   "display_name": "Python 3 (ipykernel)",
   "language": "python",
   "name": "python3"
  },
  "language_info": {
   "codemirror_mode": {
    "name": "ipython",
    "version": 3
   },
   "file_extension": ".py",
   "mimetype": "text/x-python",
   "name": "python",
   "nbconvert_exporter": "python",
   "pygments_lexer": "ipython3",
   "version": "3.11.5"
  }
 },
 "nbformat": 4,
 "nbformat_minor": 5
}
