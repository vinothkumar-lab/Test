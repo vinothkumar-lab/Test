{
 "cells": [
  {
   "cell_type": "code",
   "execution_count": 1,
   "id": "708aa0c9",
   "metadata": {},
   "outputs": [
    {
     "name": "stdout",
     "output_type": "stream",
     "text": [
      "HOPE AI\n"
     ]
    }
   ],
   "source": [
    "print(\"HOPE AI\")"
   ]
  },
  {
   "cell_type": "code",
   "execution_count": 3,
   "id": "73d76fcf",
   "metadata": {},
   "outputs": [
    {
     "name": "stdout",
     "output_type": "stream",
     "text": [
      "Enter your institute name?:HOPE AI\n"
     ]
    }
   ],
   "source": [
    "Enter=(input(\"Enter your institute name?:\"))"
   ]
  },
  {
   "cell_type": "code",
   "execution_count": 7,
   "id": "522e60f1",
   "metadata": {},
   "outputs": [
    {
     "name": "stdout",
     "output_type": "stream",
     "text": [
      "Enter your name :Vinoth Kumar\n",
      "enter your age:39\n",
      "enter your school name:Navarasam\n",
      "enter your degree:MCA\n"
     ]
    }
   ],
   "source": [
    "Enter=(input(\"Enter your name :\"))\n",
    "enter=int(input(\"enter your age:\"))\n",
    "enter=(input(\"enter your school name:\"))\n",
    "enter=(input(\"enter your degree:\"))"
   ]
  },
  {
   "cell_type": "code",
   "execution_count": 27,
   "id": "16e0e7be",
   "metadata": {},
   "outputs": [
    {
     "name": "stdout",
     "output_type": "stream",
     "text": [
      "a=43\n",
      "b=34\n",
      "Add= 77\n"
     ]
    }
   ],
   "source": [
    "num1=int(input(\"a=\"))\n",
    "num2=int(input(\"b=\"))\n",
    "add=(num1+num2)\n",
    "print(\"Add=\",add)\n"
   ]
  },
  {
   "cell_type": "code",
   "execution_count": 31,
   "id": "34ac6288",
   "metadata": {},
   "outputs": [
    {
     "name": "stdout",
     "output_type": "stream",
     "text": [
      "a=43\n",
      "b=34\n",
      "sub= 9\n"
     ]
    }
   ],
   "source": [
    "num1=int(input(\"a=\"))\n",
    "num2=int(input(\"b=\"))\n",
    "sub=(num1-num2)\n",
    "print(\"sub=\",sub)"
   ]
  },
  {
   "cell_type": "code",
   "execution_count": 33,
   "id": "5fd2021d",
   "metadata": {},
   "outputs": [
    {
     "name": "stdout",
     "output_type": "stream",
     "text": [
      "a=63\n",
      "b=97\n",
      "mult= 6111\n"
     ]
    }
   ],
   "source": [
    "num1=int(input(\"a=\"))\n",
    "num2=int(input(\"b=\"))\n",
    "mult=num1*num2\n",
    "print(\"mult=\",mult)"
   ]
  },
  {
   "cell_type": "code",
   "execution_count": 36,
   "id": "9af92127",
   "metadata": {},
   "outputs": [
    {
     "name": "stdout",
     "output_type": "stream",
     "text": [
      "a=76\n",
      "b=31\n",
      "Float div= 2.4516129032258065\n"
     ]
    }
   ],
   "source": [
    "num1=int(input(\"a=\"))\n",
    "num2=int(input(\"b=\"))\n",
    "div=num1/num2\n",
    "print(\"Float div=\",div)"
   ]
  },
  {
   "cell_type": "code",
   "execution_count": 37,
   "id": "2696082a",
   "metadata": {},
   "outputs": [
    {
     "name": "stdout",
     "output_type": "stream",
     "text": [
      "a=76\n",
      "b=31\n",
      "Floor Div: 2\n"
     ]
    }
   ],
   "source": [
    "num1=int(input(\"a=\"))\n",
    "num2=int(input(\"b=\"))\n",
    "div=num1//num2\n",
    "print(\"Floor Div:\",div)"
   ]
  },
  {
   "cell_type": "code",
   "execution_count": 38,
   "id": "990cd1b7",
   "metadata": {},
   "outputs": [
    {
     "name": "stdout",
     "output_type": "stream",
     "text": [
      "a=76\n",
      "b=31\n",
      "modulo= 14\n"
     ]
    }
   ],
   "source": [
    "num1=int(input(\"a=\"))\n",
    "num2=int(input(\"b=\"))\n",
    "div=num1%num2\n",
    "print(\"modulo=\",div)"
   ]
  },
  {
   "cell_type": "code",
   "execution_count": 40,
   "id": "558331d9",
   "metadata": {},
   "outputs": [
    {
     "name": "stdout",
     "output_type": "stream",
     "text": [
      "a=4\n",
      "b=4\n",
      "power= 256\n"
     ]
    }
   ],
   "source": [
    "num1=int(input(\"a=\"))\n",
    "num2=int(input(\"b=\"))\n",
    "div=(num1**num2)\n",
    "print(\"power=\",div)"
   ]
  },
  {
   "cell_type": "code",
   "execution_count": null,
   "id": "2da15442",
   "metadata": {},
   "outputs": [],
   "source": []
  }
 ],
 "metadata": {
  "kernelspec": {
   "display_name": "Python 3 (ipykernel)",
   "language": "python",
   "name": "python3"
  },
  "language_info": {
   "codemirror_mode": {
    "name": "ipython",
    "version": 3
   },
   "file_extension": ".py",
   "mimetype": "text/x-python",
   "name": "python",
   "nbconvert_exporter": "python",
   "pygments_lexer": "ipython3",
   "version": "3.11.5"
  }
 },
 "nbformat": 4,
 "nbformat_minor": 5
}
