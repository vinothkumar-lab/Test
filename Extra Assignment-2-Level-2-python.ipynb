{
 "cells": [
  {
   "cell_type": "code",
   "execution_count": 6,
   "id": "0eb4df84",
   "metadata": {},
   "outputs": [
    {
     "name": "stdout",
     "output_type": "stream",
     "text": [
      "0\n",
      "1\n",
      "2\n",
      "3\n",
      "4\n",
      "5\n",
      "6\n",
      "7\n",
      "8\n",
      "9\n",
      "10\n",
      "11\n",
      "12\n",
      "13\n",
      "14\n",
      "15\n",
      "16\n",
      "17\n",
      "18\n",
      "19\n"
     ]
    }
   ],
   "source": [
    "for num in range(0,20):\n",
    "    print(num)\n"
   ]
  },
  {
   "cell_type": "code",
   "execution_count": 12,
   "id": "bee45934",
   "metadata": {},
   "outputs": [
    {
     "name": "stdout",
     "output_type": "stream",
     "text": [
      "10 11 12 13 14 15 16 17 18 19 "
     ]
    }
   ],
   "source": [
    "for num in range(10,20):\n",
    "    print(num,end=\" \")"
   ]
  },
  {
   "cell_type": "code",
   "execution_count": 18,
   "id": "7b189bbf",
   "metadata": {},
   "outputs": [
    {
     "name": "stdout",
     "output_type": "stream",
     "text": [
      "Number of Item in the list2: 7\n"
     ]
    }
   ],
   "source": [
    "num=[10,20,14,55,43,87,76]\n",
    "length=len(num)\n",
    "print(\"Number of Item in the list2:\",length)\n"
   ]
  },
  {
   "cell_type": "code",
   "execution_count": 21,
   "id": "12eef5c0",
   "metadata": {},
   "outputs": [
    {
     "name": "stdout",
     "output_type": "stream",
     "text": [
      "- YOUR NMAE -\n",
      "- Your age - \n",
      "- Your Profession - \n"
     ]
    }
   ],
   "source": [
    "print(\"- YOUR NMAE -\")\n",
    "print(\"- Your age - \")\n",
    "print(\"- Your Profession - \")"
   ]
  },
  {
   "cell_type": "code",
   "execution_count": 22,
   "id": "c270ed27",
   "metadata": {},
   "outputs": [
    {
     "name": "stdout",
     "output_type": "stream",
     "text": [
      "(1, 'welcome', 2, 'Hope')\n"
     ]
    }
   ],
   "source": [
    "lists=[1,\"welcome\",2,\"Hope\"]\n",
    "print(tuple(lists))"
   ]
  },
  {
   "cell_type": "code",
   "execution_count": 46,
   "id": "7c263c5e",
   "metadata": {},
   "outputs": [
    {
     "name": "stdout",
     "output_type": "stream",
     "text": [
      "((0, 1, 2, 3), ('python', 'HOPE'))\n"
     ]
    }
   ],
   "source": [
    "Tuple1 = (0, 1, 2, 3)\n",
    "Tuple2 = ('python', 'HOPE')\n",
    "Tuple3 = (Tuple1, Tuple2)\n",
    "print(Tuple3)"
   ]
  },
  {
   "cell_type": "code",
   "execution_count": 43,
   "id": "b28aa18f",
   "metadata": {},
   "outputs": [
    {
     "name": "stdout",
     "output_type": "stream",
     "text": [
      "19 IS ODD\n",
      "25 IS ODD\n",
      "1 IS ODD\n"
     ]
    }
   ],
   "source": [
    "list1 = [20, 10, 16, 19, 25, 1, 276, 188]\n",
    " \n",
    "for num in list1:\n",
    "    if (num % 2 == 1):\n",
    "        print(num,\"IS ODD\")"
   ]
  },
  {
   "cell_type": "code",
   "execution_count": 44,
   "id": "06562d19",
   "metadata": {},
   "outputs": [
    {
     "name": "stdout",
     "output_type": "stream",
     "text": [
      "20 IS EVEN\n",
      "10 IS EVEN\n",
      "16 IS EVEN\n",
      "276 IS EVEN\n",
      "188 IS EVEN\n"
     ]
    }
   ],
   "source": [
    "list1 = [20, 10, 16, 19, 25, 1, 276, 188]\n",
    " \n",
    "for num in list1:\n",
    "    if (num % 2 == 0):\n",
    "        print(num,\"IS EVEN\")"
   ]
  },
  {
   "cell_type": "code",
   "execution_count": 75,
   "id": "0c97c482",
   "metadata": {},
   "outputs": [
    {
     "name": "stdout",
     "output_type": "stream",
     "text": [
      "('A', 'r', 't', 'i', 'f', 'i', 'c', 'i', 'a', 'l', ' ', 'I', 'n', 't', 'e', 'l', 'l', 'i', 'g', 'e', 'n', 'c', 'e')\n",
      "Artificial Intelligence\n",
      "A\n",
      "r\n",
      "t\n",
      "i\n",
      "f\n",
      "i\n",
      "c\n",
      "i\n",
      "a\n",
      "l\n",
      " \n",
      "I\n",
      "n\n",
      "t\n",
      "e\n",
      "l\n",
      "l\n",
      "i\n",
      "g\n",
      "e\n",
      "n\n",
      "c\n",
      "e\n"
     ]
    }
   ],
   "source": [
    "lists = (\"Artificial Intelligence\")\n",
    "tuple1=tuple(lists)\n",
    "print(tuple1)\n",
    "for tmp in tuple1:\n",
    "    print(tmp, end=\"\")\n",
    "for tmp in \"\\n\":\n",
    "    print()\n",
    "for tmp in tuple1:\n",
    "    print(tmp)\n",
    "    "
   ]
  },
  {
   "cell_type": "code",
   "execution_count": null,
   "id": "c86e725a",
   "metadata": {},
   "outputs": [],
   "source": []
  },
  {
   "cell_type": "code",
   "execution_count": null,
   "id": "39deec25",
   "metadata": {},
   "outputs": [],
   "source": []
  },
  {
   "cell_type": "code",
   "execution_count": null,
   "id": "fd573165",
   "metadata": {},
   "outputs": [],
   "source": []
  }
 ],
 "metadata": {
  "kernelspec": {
   "display_name": "Python 3 (ipykernel)",
   "language": "python",
   "name": "python3"
  },
  "language_info": {
   "codemirror_mode": {
    "name": "ipython",
    "version": 3
   },
   "file_extension": ".py",
   "mimetype": "text/x-python",
   "name": "python",
   "nbconvert_exporter": "python",
   "pygments_lexer": "ipython3",
   "version": "3.11.5"
  }
 },
 "nbformat": 4,
 "nbformat_minor": 5
}
