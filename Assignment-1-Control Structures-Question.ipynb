{
 "cells": [
  {
   "cell_type": "code",
   "execution_count": 1,
   "id": "e77abc0d",
   "metadata": {},
   "outputs": [
    {
     "name": "stdout",
     "output_type": "stream",
     "text": [
      "Welcome to Assessment -1\n"
     ]
    }
   ],
   "source": [
    "print(\"Welcome to Assessment -1\")"
   ]
  },
  {
   "cell_type": "code",
   "execution_count": 7,
   "id": "d43b2803",
   "metadata": {},
   "outputs": [
    {
     "name": "stdout",
     "output_type": "stream",
     "text": [
      "num1=10\n",
      "num2=30\n",
      "add=40\n"
     ]
    }
   ],
   "source": [
    "num1=10\n",
    "num2=30\n",
    "print(\"num1=10\")\n",
    "print(\"num2=30\")\n",
    "add=num1+num2\n",
    "print(\"add=40\")"
   ]
  },
  {
   "cell_type": "code",
   "execution_count": 37,
   "id": "acd02c59",
   "metadata": {},
   "outputs": [
    {
     "name": "stdout",
     "output_type": "stream",
     "text": [
      "Enter the BMI Index:34\n",
      "Very overweight\n"
     ]
    }
   ],
   "source": [
    "BMI=int(input(\"Enter the BMI Index:\"))\n",
    "if(BMI<18):\n",
    "    print(\"Underweight\")\n",
    "elif(BMI<25):\n",
    "    print(\"normal weight\")\n",
    "elif(BMI<30):\n",
    "    print(\"Overweight\")\n",
    "else:\n",
    "    print(\"Very overweight\")\n",
    "    "
   ]
  },
  {
   "cell_type": "code",
   "execution_count": null,
   "id": "36dba9d5",
   "metadata": {},
   "outputs": [],
   "source": []
  },
  {
   "cell_type": "code",
   "execution_count": null,
   "id": "ed630b1f",
   "metadata": {},
   "outputs": [],
   "source": []
  },
  {
   "cell_type": "code",
   "execution_count": null,
   "id": "8f50eefe",
   "metadata": {},
   "outputs": [],
   "source": []
  }
 ],
 "metadata": {
  "kernelspec": {
   "display_name": "Python 3 (ipykernel)",
   "language": "python",
   "name": "python3"
  },
  "language_info": {
   "codemirror_mode": {
    "name": "ipython",
    "version": 3
   },
   "file_extension": ".py",
   "mimetype": "text/x-python",
   "name": "python",
   "nbconvert_exporter": "python",
   "pygments_lexer": "ipython3",
   "version": "3.11.5"
  }
 },
 "nbformat": 4,
 "nbformat_minor": 5
}
